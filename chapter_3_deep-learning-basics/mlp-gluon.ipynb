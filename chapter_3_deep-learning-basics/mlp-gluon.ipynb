{
 "cells": [
  {
   "cell_type": "markdown",
   "metadata": {},
   "source": [
    "# 多层感知机的简洁实现\n",
    "\n",
    "下面我们使用Gluon来实现上一节中的多层感知机。首先导入所需的包或模块。"
   ]
  },
  {
   "cell_type": "code",
   "execution_count": 2,
   "metadata": {},
   "outputs": [],
   "source": [
    "import d2lzh as d2l\n",
    "from mxnet import gluon, init\n",
    "from mxnet.gluon import loss as gloss, nn"
   ]
  },
  {
   "cell_type": "markdown",
   "metadata": {},
   "source": [
    "## 定义模型\n",
    "\n",
    "和softmax回归唯一的不同在于，我们多加了一个全连接层作为隐藏层。它的隐藏单元个数为256，并使用ReLU函数作为激活函数。"
   ]
  },
  {
   "cell_type": "code",
   "execution_count": 3,
   "metadata": {
    "attributes": {
     "classes": [],
     "id": "",
     "n": "5"
    }
   },
   "outputs": [],
   "source": [
    "net = nn.Sequential()\n",
    "net.add(nn.Dense(256, activation='relu'),\n",
    "        nn.BatchNorm(),\n",
    "        nn.Dropout(0.5),\n",
    "        nn.Dense(128, activation='relu'),\n",
    "        nn.BatchNorm(),\n",
    "        nn.Dropout(0.5),\n",
    "        nn.Dense(64, activation='relu'),\n",
    "        nn.BatchNorm(),\n",
    "        nn.Dense(32, activation='relu'),\n",
    "        nn.BatchNorm(),\n",
    "        nn.Dropout(0.5),\n",
    "        nn.Dense(10))\n",
    "net.initialize(init.Normal(sigma=0.01))"
   ]
  },
  {
   "cell_type": "code",
   "execution_count": 20,
   "metadata": {},
   "outputs": [],
   "source": [
    "batch_size = 2\n",
    "train_iter, test_iter = d2l.load_data_fashion_mnist(batch_size)"
   ]
  },
  {
   "cell_type": "code",
   "execution_count": 21,
   "metadata": {},
   "outputs": [],
   "source": [
    "for x,y in train_iter:\n",
    "    break"
   ]
  },
  {
   "cell_type": "code",
   "execution_count": 22,
   "metadata": {},
   "outputs": [
    {
     "data": {
      "text/plain": [
       "\n",
       "[[ 3.3743865  -1.5632001   2.855191    0.86081326  0.7607339  -2.6540363\n",
       "   3.5175872  -3.7341082  -0.26102838 -3.1164155 ]\n",
       " [ 4.5535245  -1.5674461   1.7492775   1.317666   -0.36723465 -2.531155\n",
       "   3.3178616  -3.611929   -0.29862392 -2.467851  ]]\n",
       "<NDArray 2x10 @cpu(0)>"
      ]
     },
     "execution_count": 22,
     "metadata": {},
     "output_type": "execute_result"
    }
   ],
   "source": [
    "net(x)"
   ]
  },
  {
   "cell_type": "code",
   "execution_count": 18,
   "metadata": {
    "collapsed": true
   },
   "outputs": [
    {
     "data": {
      "text/plain": [
       "\n",
       "[1.18130994e+00 5.35269305e-02 6.74787819e-01 8.99627030e-01\n",
       " 8.87860596e-01 8.54160011e-01 4.26475197e-01 7.66290165e-03\n",
       " 2.63629146e-02 2.40469709e-01 2.26495085e-05 1.72180636e-03\n",
       " 4.49301749e-02 3.65438275e-02 3.72393513e+00 1.03306079e+00\n",
       " 1.47644486e-02 5.43415286e-02 2.20069051e-01 8.98754448e-02\n",
       " 1.40495533e-02 1.54970876e-05 8.36276829e-01 1.01808310e+00\n",
       " 2.12928988e-02 2.25553550e-02 1.16056055e-02 1.14925668e-01\n",
       " 2.37668514e+00 5.17354929e-05 3.80740821e-01 5.98993413e-02\n",
       " 1.37178111e+00 1.80033855e-02 1.22775227e-01 7.02075288e-02\n",
       " 1.16834529e-01 4.16404188e-01 3.70628667e+00 6.35824978e-01\n",
       " 6.87820971e-01 7.98670371e-05 3.49114183e-03 2.73375899e-01\n",
       " 6.15083694e-01 4.79209848e-05 4.19512701e+00 3.12051680e-02\n",
       " 1.55036700e+00 9.55319311e-03 1.04903629e-05 4.27606096e-03\n",
       " 3.15121491e-03 1.42099112e-01 7.96108972e-03 1.69038877e-03\n",
       " 6.77951786e-04 1.62744578e-02 1.96298566e-02 2.10175719e-02\n",
       " 3.38928670e-01 4.44075209e-04 1.91005230e-01 1.23055289e-02\n",
       " 1.13890934e+00 7.91292191e-02 8.66087526e-02 5.32763481e-01\n",
       " 1.66944310e-03 4.39902721e-03 2.31694770e+00 5.13778832e-05\n",
       " 1.12348460e-01 1.13447785e-01 1.41434431e+00 5.14209390e-01\n",
       " 7.14869201e-01 3.23006436e-02 7.18267798e-01 2.91611385e-02\n",
       " 6.98560791e-04 7.27678239e-01 3.69028032e-01 3.11581850e-01\n",
       " 9.60300922e-01 5.02698310e-02 6.42333105e-02 1.99000584e-03\n",
       " 3.00402899e-05 4.04052585e-01 5.88657796e-01 5.06550819e-02\n",
       " 2.80960612e-02 1.83673277e-02 1.29287958e-01 2.67252415e-01\n",
       " 8.13655913e-01 1.10827049e-03 7.17053749e-03 2.10237578e-02\n",
       " 1.71936676e-02 9.17805880e-02 3.02036991e-03 6.72157705e-01\n",
       " 1.13470526e-03 1.92172945e-01 1.17423711e-03 4.71491972e-03\n",
       " 1.73739577e-03 3.10113784e-02 4.47732896e-01 1.42933140e-02\n",
       " 5.06902300e-03 2.32734770e-01 8.34461571e-06 6.00514650e-01\n",
       " 6.61649033e-02 1.65279686e-01 2.94917494e-01 4.89145285e-03\n",
       " 1.04328287e+00 1.72478147e-03 1.07640197e-04 1.45475492e-01\n",
       " 2.19948322e-01 4.88208141e-03 5.74703634e-01 6.40529953e-03\n",
       " 1.07126904e+00 9.45347175e-02 4.93934059e+00 1.20709062e+00\n",
       " 3.24978083e-01 5.26780784e-01 8.90042409e-02 5.46196848e-02\n",
       " 3.76503974e-01 3.47792229e-04 5.53238988e-01 1.52323914e+00\n",
       " 1.12342425e-02 2.04826891e-02 5.21866381e-01 8.24416950e-02\n",
       " 1.82303816e-01 1.28339753e-02 1.10002972e-01 7.71787822e-01\n",
       " 9.27565336e-01 2.79797673e-01 4.17623192e-01 1.37453958e-01\n",
       " 1.27074671e+00 3.33087612e-03 9.74904120e-01 8.83785933e-02\n",
       " 5.41055109e-03 1.59007788e-01 1.43865012e-02 2.27002753e-03\n",
       " 1.10209383e-01 1.42436647e+00 1.24301863e+00 1.11984301e+00\n",
       " 1.02952218e+00 1.06263113e+00 1.21576436e-01 6.29332140e-02\n",
       " 8.09693694e-01 3.93382907e-05 1.22651529e+00 1.21290910e+00\n",
       " 4.17223811e-01 1.13296187e+00 5.36232054e-01 2.33647479e-05\n",
       " 1.91778701e-03 1.56255841e+00 1.13563085e+00 5.30525902e-03\n",
       " 1.82997882e-01 1.77317929e+00 4.54062670e-01 2.22731475e-02\n",
       " 3.46812382e-02 8.13795507e-01 1.12989759e+00 6.63352339e-03\n",
       " 1.37314439e+00 1.36729574e+00 1.77244711e+00 1.54483307e-04\n",
       " 6.09570071e-02 3.77184302e-02 7.05871731e-02 7.25958234e-05\n",
       " 1.32069802e-02 3.12841773e-01 2.89972234e+00 1.26367090e-02\n",
       " 4.37524952e-02 6.95628719e-03 6.28166258e-01 9.42398369e-01\n",
       " 1.09639633e+00 1.12056105e-05 3.99617925e-02 1.44669786e-01\n",
       " 1.11135268e+00 8.95168900e-01 1.18361749e-01 1.22264154e-01\n",
       " 8.94320846e-01 6.17582262e-01 6.11058831e-01 1.74308228e+00\n",
       " 5.14492812e-03 4.50353831e-01 3.87374014e-01 2.70974897e-02\n",
       " 3.37005794e-01 4.02307510e-01 1.36520609e-03 6.55648955e-06\n",
       " 1.99976144e-03 1.18626305e-03 6.93425477e-01 3.84698361e-02\n",
       " 1.93381339e-01 6.18365873e-03 3.29226814e-02 2.37379980e+00\n",
       " 3.35137200e+00 1.55356854e-01 1.32652187e+00 2.23026425e-02\n",
       " 4.32655998e-02 1.01939225e+00 8.24936807e-01 3.43101695e-02\n",
       " 6.88146660e-03 1.18297003e-02 4.05310766e-06 5.39123249e+00\n",
       " 5.00326417e-02 5.95493674e-01 9.31267917e-01 2.17228949e-01\n",
       " 1.67938352e+00 1.91214100e-01 4.02797014e-02 3.40418592e-02\n",
       " 9.78022721e-03 2.52720492e-05 1.29236650e+00 1.61938798e-02]\n",
       "<NDArray 256 @cpu(0)>"
      ]
     },
     "execution_count": 18,
     "metadata": {},
     "output_type": "execute_result"
    }
   ],
   "source": [
    "gloss.SoftmaxCELoss()(net(x), y)"
   ]
  },
  {
   "cell_type": "markdown",
   "metadata": {},
   "source": [
    "## 读取数据并训练模型\n",
    "\n",
    "我们使用与[“softmax回归的简洁实现”](softmax-regression-gluon.ipynb)一节中训练softmax回归几乎相同的步骤来读取数据并训练模型。"
   ]
  },
  {
   "cell_type": "code",
   "execution_count": 16,
   "metadata": {
    "attributes": {
     "classes": [],
     "id": "",
     "n": "6"
    }
   },
   "outputs": [
    {
     "name": "stdout",
     "output_type": "stream",
     "text": [
      "epoch 1, loss 0.8690, train acc 0.672, test acc 0.754\n"
     ]
    },
    {
     "ename": "KeyboardInterrupt",
     "evalue": "",
     "output_type": "error",
     "traceback": [
      "\u001b[1;31m---------------------------------------------------------------------------\u001b[0m",
      "\u001b[1;31mKeyboardInterrupt\u001b[0m                         Traceback (most recent call last)",
      "\u001b[1;32m<ipython-input-16-30948ea29ad7>\u001b[0m in \u001b[0;36m<module>\u001b[1;34m\u001b[0m\n\u001b[0;32m      6\u001b[0m \u001b[0mnum_epochs\u001b[0m \u001b[1;33m=\u001b[0m \u001b[1;36m5\u001b[0m\u001b[1;33m\u001b[0m\u001b[0m\n\u001b[0;32m      7\u001b[0m d2l.train_ch3(net, train_iter, test_iter, loss, num_epochs, batch_size, None,\n\u001b[1;32m----> 8\u001b[1;33m               None, trainer)\n\u001b[0m",
      "\u001b[1;32mE:\\wx\\2019上课题\\程序\\mxnet学习\\chapter_3_deep-learning-basics\\d2lzh\\utils.py\u001b[0m in \u001b[0;36mtrain_ch3\u001b[1;34m(net, train_iter, test_iter, loss, num_epochs, batch_size, params, lr, trainer)\u001b[0m\n\u001b[0;32m    667\u001b[0m                 \u001b[0mtrainer\u001b[0m\u001b[1;33m.\u001b[0m\u001b[0mstep\u001b[0m\u001b[1;33m(\u001b[0m\u001b[0mbatch_size\u001b[0m\u001b[1;33m)\u001b[0m\u001b[1;33m\u001b[0m\u001b[0m\n\u001b[0;32m    668\u001b[0m             \u001b[0my\u001b[0m \u001b[1;33m=\u001b[0m \u001b[0my\u001b[0m\u001b[1;33m.\u001b[0m\u001b[0mastype\u001b[0m\u001b[1;33m(\u001b[0m\u001b[1;34m'float32'\u001b[0m\u001b[1;33m)\u001b[0m\u001b[1;33m\u001b[0m\u001b[0m\n\u001b[1;32m--> 669\u001b[1;33m             \u001b[0mtrain_l_sum\u001b[0m \u001b[1;33m+=\u001b[0m \u001b[0ml\u001b[0m\u001b[1;33m.\u001b[0m\u001b[0masscalar\u001b[0m\u001b[1;33m(\u001b[0m\u001b[1;33m)\u001b[0m\u001b[1;33m\u001b[0m\u001b[0m\n\u001b[0m\u001b[0;32m    670\u001b[0m             \u001b[0mtrain_acc_sum\u001b[0m \u001b[1;33m+=\u001b[0m \u001b[1;33m(\u001b[0m\u001b[0my_hat\u001b[0m\u001b[1;33m.\u001b[0m\u001b[0margmax\u001b[0m\u001b[1;33m(\u001b[0m\u001b[0maxis\u001b[0m\u001b[1;33m=\u001b[0m\u001b[1;36m1\u001b[0m\u001b[1;33m)\u001b[0m \u001b[1;33m==\u001b[0m \u001b[0my\u001b[0m\u001b[1;33m)\u001b[0m\u001b[1;33m.\u001b[0m\u001b[0msum\u001b[0m\u001b[1;33m(\u001b[0m\u001b[1;33m)\u001b[0m\u001b[1;33m.\u001b[0m\u001b[0masscalar\u001b[0m\u001b[1;33m(\u001b[0m\u001b[1;33m)\u001b[0m\u001b[1;33m\u001b[0m\u001b[0m\n\u001b[0;32m    671\u001b[0m             \u001b[0mn\u001b[0m \u001b[1;33m+=\u001b[0m \u001b[0my\u001b[0m\u001b[1;33m.\u001b[0m\u001b[0msize\u001b[0m\u001b[1;33m\u001b[0m\u001b[0m\n",
      "\u001b[1;32md:\\python36\\lib\\site-packages\\mxnet\\ndarray\\ndarray.py\u001b[0m in \u001b[0;36masscalar\u001b[1;34m(self)\u001b[0m\n\u001b[0;32m   2012\u001b[0m         \u001b[1;32mif\u001b[0m \u001b[0mself\u001b[0m\u001b[1;33m.\u001b[0m\u001b[0mshape\u001b[0m \u001b[1;33m!=\u001b[0m \u001b[1;33m(\u001b[0m\u001b[1;36m1\u001b[0m\u001b[1;33m,\u001b[0m\u001b[1;33m)\u001b[0m\u001b[1;33m:\u001b[0m\u001b[1;33m\u001b[0m\u001b[0m\n\u001b[0;32m   2013\u001b[0m             \u001b[1;32mraise\u001b[0m \u001b[0mValueError\u001b[0m\u001b[1;33m(\u001b[0m\u001b[1;34m\"The current array is not a scalar\"\u001b[0m\u001b[1;33m)\u001b[0m\u001b[1;33m\u001b[0m\u001b[0m\n\u001b[1;32m-> 2014\u001b[1;33m         \u001b[1;32mreturn\u001b[0m \u001b[0mself\u001b[0m\u001b[1;33m.\u001b[0m\u001b[0masnumpy\u001b[0m\u001b[1;33m(\u001b[0m\u001b[1;33m)\u001b[0m\u001b[1;33m[\u001b[0m\u001b[1;36m0\u001b[0m\u001b[1;33m]\u001b[0m\u001b[1;33m\u001b[0m\u001b[0m\n\u001b[0m\u001b[0;32m   2015\u001b[0m \u001b[1;33m\u001b[0m\u001b[0m\n\u001b[0;32m   2016\u001b[0m     \u001b[1;32mdef\u001b[0m \u001b[0mastype\u001b[0m\u001b[1;33m(\u001b[0m\u001b[0mself\u001b[0m\u001b[1;33m,\u001b[0m \u001b[0mdtype\u001b[0m\u001b[1;33m,\u001b[0m \u001b[0mcopy\u001b[0m\u001b[1;33m=\u001b[0m\u001b[1;32mTrue\u001b[0m\u001b[1;33m)\u001b[0m\u001b[1;33m:\u001b[0m\u001b[1;33m\u001b[0m\u001b[0m\n",
      "\u001b[1;32md:\\python36\\lib\\site-packages\\mxnet\\ndarray\\ndarray.py\u001b[0m in \u001b[0;36masnumpy\u001b[1;34m(self)\u001b[0m\n\u001b[0;32m   1994\u001b[0m             \u001b[0mself\u001b[0m\u001b[1;33m.\u001b[0m\u001b[0mhandle\u001b[0m\u001b[1;33m,\u001b[0m\u001b[1;33m\u001b[0m\u001b[0m\n\u001b[0;32m   1995\u001b[0m             \u001b[0mdata\u001b[0m\u001b[1;33m.\u001b[0m\u001b[0mctypes\u001b[0m\u001b[1;33m.\u001b[0m\u001b[0mdata_as\u001b[0m\u001b[1;33m(\u001b[0m\u001b[0mctypes\u001b[0m\u001b[1;33m.\u001b[0m\u001b[0mc_void_p\u001b[0m\u001b[1;33m)\u001b[0m\u001b[1;33m,\u001b[0m\u001b[1;33m\u001b[0m\u001b[0m\n\u001b[1;32m-> 1996\u001b[1;33m             ctypes.c_size_t(data.size)))\n\u001b[0m\u001b[0;32m   1997\u001b[0m         \u001b[1;32mreturn\u001b[0m \u001b[0mdata\u001b[0m\u001b[1;33m\u001b[0m\u001b[0m\n\u001b[0;32m   1998\u001b[0m \u001b[1;33m\u001b[0m\u001b[0m\n",
      "\u001b[1;31mKeyboardInterrupt\u001b[0m: "
     ]
    }
   ],
   "source": [
    "batch_size = 256\n",
    "train_iter, test_iter = d2l.load_data_fashion_mnist(batch_size)\n",
    "\n",
    "loss = gloss.SoftmaxCrossEntropyLoss()\n",
    "trainer = gluon.Trainer(net.collect_params(), 'sgd', {'learning_rate': 0.5})\n",
    "num_epochs = 5\n",
    "d2l.train_ch3(net, train_iter, test_iter, loss, num_epochs, batch_size, None,\n",
    "              None, trainer)"
   ]
  },
  {
   "cell_type": "code",
   "execution_count": 15,
   "metadata": {},
   "outputs": [
    {
     "data": {
      "text/plain": [
       "\n",
       "[[-1.9335685e-06  2.5074255e-06 -9.8344401e-07  2.1537207e-06\n",
       "   2.3487698e-06 -3.9775505e-06  1.5326864e-06 -3.3532379e-07\n",
       "  -1.8740094e-06 -1.7710765e-06]]\n",
       "<NDArray 1x10 @cpu(0)>"
      ]
     },
     "execution_count": 15,
     "metadata": {},
     "output_type": "execute_result"
    }
   ],
   "source": [
    "net(x)"
   ]
  },
  {
   "cell_type": "markdown",
   "metadata": {},
   "source": [
    "## 小结\n",
    "\n",
    "* 通过Gluon可以更简洁地实现多层感知机。\n",
    "\n",
    "## 练习\n",
    "\n",
    "* 尝试多加入几个隐藏层，对比上一节中从零开始的实现。\n",
    "* 使用其他的激活函数，看看对结果的影响。\n",
    "\n",
    "\n",
    "\n",
    "## 扫码直达[讨论区](https://discuss.gluon.ai/t/topic/738)\n",
    "\n",
    "![](../img/qr_mlp-gluon.svg)"
   ]
  }
 ],
 "metadata": {
  "kernelspec": {
   "display_name": "Python 3",
   "language": "python",
   "name": "python3"
  },
  "language_info": {
   "codemirror_mode": {
    "name": "ipython",
    "version": 3
   },
   "file_extension": ".py",
   "mimetype": "text/x-python",
   "name": "python",
   "nbconvert_exporter": "python",
   "pygments_lexer": "ipython3",
   "version": "3.6.5"
  }
 },
 "nbformat": 4,
 "nbformat_minor": 2
}
